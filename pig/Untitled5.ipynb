{
  "nbformat": 4,
  "nbformat_minor": 0,
  "metadata": {
    "colab": {
      "provenance": [],
      "collapsed_sections": []
    },
    "kernelspec": {
      "name": "python3",
      "display_name": "Python 3"
    },
    "language_info": {
      "name": "python"
    }
  },
  "cells": [
    {
      "cell_type": "markdown",
      "source": [
        "***Preparation***"
      ],
      "metadata": {
        "id": "2f4oR-ihjdqs"
      }
    },
    {
      "cell_type": "markdown",
      "source": [
        "1- telecharger gcloud cli https://cloud.google.com/sdk/docs/install?hl=fr\n"
      ],
      "metadata": {
        "id": "Ll8KBq8fiLdS"
      }
    },
    {
      "cell_type": "markdown",
      "source": [
        "**etapes**"
      ],
      "metadata": {
        "id": "b9lAITgCjk-g"
      }
    },
    {
      "cell_type": "markdown",
      "source": [
        "1-changer XXXX par la valeur initial de neud\n",
        "2-changer YYYY par un nom de projet ( il faut qu'il soit unique)"
      ],
      "metadata": {
        "id": "GwUUHStLjv9d"
      }
    },
    {
      "cell_type": "code",
      "execution_count": null,
      "metadata": {
        "id": "y_408MHciKeY"
      },
      "outputs": [],
      "source": [
        "gcloud dataproc clusters create cluster-a35a --enable-component-gateway --region europe-west1 --zone europe-west1-c --master-machine-type n1-standard-4 --master-boot-disk-size 500 --num-workers XXXX --worker-machine-type n1-standard-4 --worker-boot-disk-size 500 --image-version 2.0-debian10 --project YYYY"
      ]
    },
    {
      "cell_type": "markdown",
      "source": [
        "\n",
        "2- changer BUCKET_NAME par un nom unique\n",
        "\n",
        "\n",
        "3- changer YYYY par la meme valeur de YYYY dans l etape perecedants\n",
        "\n"
      ],
      "metadata": {
        "id": "-ToZnUhwjk7R"
      }
    },
    {
      "cell_type": "code",
      "source": [
        "gcloud storage buckets create gs://BUCKET_NAME --project=YYYY  --location=europe-west1 --uniform-bucket-level-access"
      ],
      "metadata": {
        "id": "z9b8_ZDkkOCd"
      },
      "execution_count": null,
      "outputs": []
    },
    {
      "cell_type": "markdown",
      "source": [
        "4-telecharger fichier : http://downloads.dbpedia.org/3.5.1/en/page_links_en.nt.bz2\n"
      ],
      "metadata": {
        "id": "Mwd8O9MbknPc"
      }
    },
    {
      "cell_type": "markdown",
      "source": [
        "5-\n",
        "dans le meme repertoire de fichier telecharger a l'etape 4 executer la commande\n",
        "\n",
        "\n",
        "6- changer BUCKET_NAME par la meme valeur de etape 2"
      ],
      "metadata": {
        "id": "7Rp5M4gdm3SN"
      }
    },
    {
      "cell_type": "code",
      "source": [
        "gsutil cp page_links_en.nt.bz2 gs://BUCKET_NAME/"
      ],
      "metadata": {
        "id": "95swOBohnliz"
      },
      "execution_count": null,
      "outputs": []
    },
    {
      "cell_type": "markdown",
      "source": [
        "7-telecharger fichier dataproc.py modifier ( envoyer avec cette representation)\n",
        "\n",
        "8- ouvrir le fichier telecharger et changer les valeur de MIN, MAX par le nombeer min de neud et max  \n",
        "\n",
        "9-changer BUCKET_NAME par la meme valeur de etape 2 et executer la commande "
      ],
      "metadata": {
        "id": "Z9a2F4zfn4XS"
      }
    },
    {
      "cell_type": "code",
      "source": [
        "gsutil cp dataproc.py gs://BUCKET_NAME/"
      ],
      "metadata": {
        "id": "uXUAGZByoBWs"
      },
      "execution_count": null,
      "outputs": []
    },
    {
      "cell_type": "markdown",
      "source": [
        "10- changer BUCKET_NAME par la meme valeur de etape 2 et executer la commande "
      ],
      "metadata": {
        "id": "SD-aHboPpKCl"
      }
    },
    {
      "cell_type": "code",
      "source": [
        "gcloud dataproc jobs submit pig --region europe-west1 --cluster cluster-a35a -f gs://BUCKET_NAME/dataproc.py"
      ],
      "metadata": {
        "id": "gt0JFQCepMC8"
      },
      "execution_count": null,
      "outputs": []
    },
    {
      "cell_type": "markdown",
      "source": [
        "**vous pouver clicker sur cntrl +c ( sur linux) pour quiter affichage de log lorsque le job est terminer le cluster sera suprimer automatiquement mais les resultat seron sauvgarder sur le bucket DON't WORRY**"
      ],
      "metadata": {
        "id": "vpvEwXQbpULu"
      }
    }
  ]
}